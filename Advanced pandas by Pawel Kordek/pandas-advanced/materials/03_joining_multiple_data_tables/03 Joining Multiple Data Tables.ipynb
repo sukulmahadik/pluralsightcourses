{
 "cells": [
  {
   "cell_type": "code",
   "execution_count": null,
   "metadata": {
    "collapsed": true,
    "slideshow": {
     "slide_type": "slide"
    }
   },
   "outputs": [],
   "source": [
    "import pandas as pd\n",
    "import os"
   ]
  },
  {
   "cell_type": "code",
   "execution_count": null,
   "metadata": {
    "collapsed": true,
    "slideshow": {
     "slide_type": "fragment"
    }
   },
   "outputs": [],
   "source": [
    "master = pd.read_pickle(os.path.join(\"..\", \"master.pickle\"))\n",
    "scoring = pd.read_pickle(os.path.join(\"..\", \"scoring.pickle\"))\n",
    "teams = pd.read_pickle(os.path.join(\"..\", \"teams.pickle\"))\n",
    "team_splits = pd.read_pickle(os.path.join(\"..\", \"team_splits.pickle\"))"
   ]
  },
  {
   "cell_type": "code",
   "execution_count": null,
   "metadata": {
    "slideshow": {
     "slide_type": "slide"
    }
   },
   "outputs": [],
   "source": [
    "master.head(2)"
   ]
  },
  {
   "cell_type": "code",
   "execution_count": null,
   "metadata": {
    "slideshow": {
     "slide_type": "fragment"
    }
   },
   "outputs": [],
   "source": [
    "scoring.head(2)"
   ]
  },
  {
   "cell_type": "code",
   "execution_count": null,
   "metadata": {
    "slideshow": {
     "slide_type": "slide"
    }
   },
   "outputs": [],
   "source": [
    "pd.merge(master, scoring, left_index=True, right_on=\"playerID\").head()"
   ]
  },
  {
   "cell_type": "code",
   "execution_count": null,
   "metadata": {
    "slideshow": {
     "slide_type": "slide"
    }
   },
   "outputs": [],
   "source": [
    "scoring.index"
   ]
  },
  {
   "cell_type": "code",
   "execution_count": null,
   "metadata": {
    "slideshow": {
     "slide_type": "fragment"
    }
   },
   "outputs": [],
   "source": [
    "scoring.index + 3"
   ]
  },
  {
   "cell_type": "code",
   "execution_count": null,
   "metadata": {
    "collapsed": true,
    "slideshow": {
     "slide_type": "fragment"
    }
   },
   "outputs": [],
   "source": [
    "scoring.index = scoring.index + 3"
   ]
  },
  {
   "cell_type": "code",
   "execution_count": null,
   "metadata": {
    "scrolled": true,
    "slideshow": {
     "slide_type": "slide"
    }
   },
   "outputs": [],
   "source": [
    "pd.merge(master, scoring, left_index=True, right_on=\"playerID\").head()"
   ]
  },
  {
   "cell_type": "code",
   "execution_count": null,
   "metadata": {
    "slideshow": {
     "slide_type": "slide"
    }
   },
   "outputs": [],
   "source": [
    "pd.merge(master, scoring.set_index(\"playerID\", drop=True),\n",
    "                                   left_index=True, right_index=True).head()"
   ]
  },
  {
   "cell_type": "code",
   "execution_count": null,
   "metadata": {
    "slideshow": {
     "slide_type": "slide"
    }
   },
   "outputs": [],
   "source": [
    "scoring = scoring.reset_index(drop=True)\n",
    "pd.merge(master, scoring, left_index=True,\n",
    "                  right_on=\"playerID\").head()\n"
   ]
  },
  {
   "cell_type": "code",
   "execution_count": null,
   "metadata": {
    "slideshow": {
     "slide_type": "slide"
    }
   },
   "outputs": [],
   "source": [
    "print(\n",
    "\n",
    "    pd.merge(master, scoring, left_index=True,\n",
    "             right_on=\"playerID\").shape,\n",
    "    \n",
    "    pd.merge(master, scoring, left_index=True,\n",
    "                  right_on=\"playerID\", how=\"right\").shape\n",
    ")\n"
   ]
  },
  {
   "cell_type": "code",
   "execution_count": null,
   "metadata": {
    "slideshow": {
     "slide_type": "slide"
    }
   },
   "outputs": [],
   "source": [
    "# Drop random records\n",
    "master2 = master.drop(master.sample(5).index)\n",
    "\n",
    "print(\n",
    "\n",
    "    pd.merge(master2, scoring, left_index=True,\n",
    "             right_on=\"playerID\").shape,\n",
    "    \n",
    "    pd.merge(master2, scoring, left_index=True,\n",
    "                  right_on=\"playerID\", how=\"right\").shape\n",
    ")\n"
   ]
  },
  {
   "cell_type": "code",
   "execution_count": null,
   "metadata": {
    "slideshow": {
     "slide_type": "slide"
    }
   },
   "outputs": [],
   "source": [
    "merged = pd.merge(master2, scoring, left_index=True,\n",
    "                  right_on=\"playerID\", how=\"right\", indicator=True)\n",
    "merged.head()"
   ]
  },
  {
   "cell_type": "code",
   "execution_count": null,
   "metadata": {
    "slideshow": {
     "slide_type": "slide"
    }
   },
   "outputs": [],
   "source": [
    "merged[\"_merge\"].value_counts()"
   ]
  },
  {
   "cell_type": "code",
   "execution_count": null,
   "metadata": {
    "slideshow": {
     "slide_type": "slide"
    }
   },
   "outputs": [],
   "source": [
    "merged[merged[\"_merge\"] == \"right_only\"].head()"
   ]
  },
  {
   "cell_type": "code",
   "execution_count": null,
   "metadata": {
    "collapsed": true,
    "slideshow": {
     "slide_type": "slide"
    }
   },
   "outputs": [],
   "source": [
    "scoring2 = scoring.drop(scoring.sample(1000).index)"
   ]
  },
  {
   "cell_type": "code",
   "execution_count": null,
   "metadata": {
    "collapsed": true,
    "slideshow": {
     "slide_type": "fragment"
    }
   },
   "outputs": [],
   "source": [
    "merged = pd.merge(master2, scoring2, left_index=True,\n",
    "                  right_on=\"playerID\",\n",
    "                  how=\"outer\", indicator=True)"
   ]
  },
  {
   "cell_type": "code",
   "execution_count": null,
   "metadata": {
    "slideshow": {
     "slide_type": "fragment"
    }
   },
   "outputs": [],
   "source": [
    "merged[(merged[\"_merge\"] == \"left_only\") |\n",
    "       (merged[\"_merge\"] == \"right_only\")\n",
    "      ].sample(3)"
   ]
  },
  {
   "cell_type": "code",
   "execution_count": null,
   "metadata": {
    "slideshow": {
     "slide_type": "slide"
    }
   },
   "outputs": [],
   "source": [
    "# https://pandas.pydata.org/pandas-docs/stable/api.html#string-handling\n",
    "\n",
    "merged[merged[\"_merge\"].str.endswith(\"only\")].sample(5)"
   ]
  },
  {
   "cell_type": "code",
   "execution_count": null,
   "metadata": {
    "slideshow": {
     "slide_type": "slide"
    }
   },
   "outputs": [],
   "source": [
    "pd.merge(master, scoring,\n",
    "                 left_index=True, right_on=\"playerID\",\n",
    "                 validate=\"1:m\").head()"
   ]
  },
  {
   "cell_type": "code",
   "execution_count": null,
   "metadata": {
    "slideshow": {
     "slide_type": "slide"
    }
   },
   "outputs": [],
   "source": [
    "try:\n",
    "    pd.merge(master, scoring,\n",
    "                 left_index=True, right_on=\"playerID\",\n",
    "                 validate=\"1:1\")\n",
    "except Exception as e:\n",
    "    print(e)"
   ]
  },
  {
   "cell_type": "code",
   "execution_count": null,
   "metadata": {
    "slideshow": {
     "slide_type": "slide"
    }
   },
   "outputs": [],
   "source": [
    "merged = pd.merge(master, scoring,\n",
    "                 left_index=True, right_on=\"playerID\")\n",
    "merged.head()"
   ]
  },
  {
   "cell_type": "code",
   "execution_count": null,
   "metadata": {
    "slideshow": {
     "slide_type": "slide"
    }
   },
   "outputs": [],
   "source": [
    "merged = merged.filter(regex=\"^(?!(birth)).*\")\n",
    "merged.head()"
   ]
  },
  {
   "cell_type": "code",
   "execution_count": null,
   "metadata": {
    "collapsed": true,
    "slideshow": {
     "slide_type": "fragment"
    }
   },
   "outputs": [],
   "source": [
    "merged.to_pickle(os.path.join(\"..\", \"scoring.pickle\"))"
   ]
  },
  {
   "cell_type": "code",
   "execution_count": null,
   "metadata": {
    "slideshow": {
     "slide_type": "slide"
    }
   },
   "outputs": [],
   "source": [
    "teams.sample(2)"
   ]
  },
  {
   "cell_type": "code",
   "execution_count": null,
   "metadata": {
    "slideshow": {
     "slide_type": "fragment"
    }
   },
   "outputs": [],
   "source": [
    "team_splits.sample(2)"
   ]
  },
  {
   "cell_type": "code",
   "execution_count": null,
   "metadata": {
    "slideshow": {
     "slide_type": "slide"
    }
   },
   "outputs": [],
   "source": [
    "teams2 = teams[[\"tmID\", \"name\"]]\n",
    "teams2 = teams2.drop_duplicates()\n",
    "teams2[\"tmID\"].value_counts().head()"
   ]
  },
  {
   "cell_type": "code",
   "execution_count": null,
   "metadata": {
    "slideshow": {
     "slide_type": "fragment"
    }
   },
   "outputs": [],
   "source": [
    "teams2.loc[teams2[\"tmID\"] == \"CHI\"]"
   ]
  },
  {
   "cell_type": "code",
   "execution_count": null,
   "metadata": {
    "slideshow": {
     "slide_type": "slide"
    }
   },
   "outputs": [],
   "source": [
    "teams2 = teams2[teams2[\"tmID\"] == \"CHI\"]\n",
    "team_splits2 = team_splits[team_splits[\"tmID\"] == \"CHI\"].sample(2)\n",
    "team_splits2"
   ]
  },
  {
   "cell_type": "code",
   "execution_count": null,
   "metadata": {
    "slideshow": {
     "slide_type": "slide"
    }
   },
   "outputs": [],
   "source": [
    "pd.merge(teams2, team_splits2)"
   ]
  },
  {
   "cell_type": "code",
   "execution_count": null,
   "metadata": {
    "slideshow": {
     "slide_type": "slide"
    }
   },
   "outputs": [],
   "source": [
    "pd.merge(team_splits, teams, \n",
    "                        left_on=[\"tmID\", \"year\"],\n",
    "                        right_on=[\"tmID\", \"year\"]).head(4)"
   ]
  },
  {
   "cell_type": "code",
   "execution_count": null,
   "metadata": {
    "slideshow": {
     "slide_type": "slide"
    }
   },
   "outputs": [],
   "source": [
    "try:\n",
    "    pd.merge(team_splits, teams, \n",
    "                        left_on=[\"tmID\", \"year\"],\n",
    "                        right_on=[\"year\", \"tmID\"]).head()\n",
    "except Exception as e:\n",
    "    print(e)"
   ]
  },
  {
   "cell_type": "code",
   "execution_count": null,
   "metadata": {
    "slideshow": {
     "slide_type": "slide"
    }
   },
   "outputs": [],
   "source": [
    "pd.merge(team_splits, teams, \n",
    "                        on=[\"tmID\", \"year\"]).head(4)"
   ]
  },
  {
   "cell_type": "code",
   "execution_count": null,
   "metadata": {
    "slideshow": {
     "slide_type": "slide"
    }
   },
   "outputs": [],
   "source": [
    "pd.merge(team_splits, teams, \n",
    "                        on=[\"tmID\"]).head(4)"
   ]
  },
  {
   "cell_type": "code",
   "execution_count": null,
   "metadata": {
    "slideshow": {
     "slide_type": "slide"
    }
   },
   "outputs": [],
   "source": [
    "pd.merge(team_splits, teams, \n",
    "                        on=[\"tmID\"]).head().filter(like=\"year\")"
   ]
  },
  {
   "cell_type": "code",
   "execution_count": null,
   "metadata": {
    "slideshow": {
     "slide_type": "slide"
    }
   },
   "outputs": [],
   "source": [
    "pd.merge(team_splits, teams, \n",
    "                        on=[\"tmID\"], \n",
    "         suffixes=[\"_team_splits\", \"_teams\"]).head().filter(like=\"year\")\n",
    "\n",
    "# Like means: \"year\" in x == True"
   ]
  },
  {
   "cell_type": "code",
   "execution_count": null,
   "metadata": {
    "slideshow": {
     "slide_type": "slide"
    }
   },
   "outputs": [],
   "source": [
    "merged = pd.merge(team_splits, teams, on=[\"tmID\", \"year\"])\n",
    "merged.head(3)"
   ]
  },
  {
   "cell_type": "code",
   "execution_count": null,
   "metadata": {
    "collapsed": true,
    "slideshow": {
     "slide_type": "slide"
    }
   },
   "outputs": [],
   "source": [
    "merged.to_pickle(os.path.join(\"..\", \"team_splits.pickle\"))"
   ]
  },
  {
   "cell_type": "markdown",
   "metadata": {
    "slideshow": {
     "slide_type": "slide"
    }
   },
   "source": [
    "# Bonus"
   ]
  },
  {
   "cell_type": "code",
   "execution_count": null,
   "metadata": {
    "collapsed": true,
    "slideshow": {
     "slide_type": "slide"
    }
   },
   "outputs": [],
   "source": [
    "# This is to show join going bad\n",
    "\n",
    "df1 = pd.DataFrame([\n",
    "        [\"hopkide01\", 4, \"R\"],\n",
    "        [\"mairad01\", 1, \"C\"],\n",
    "        [\"chaseke01\", 5, \"R\"]\n",
    "    ],\n",
    "    columns=[\"playerID\", \"goals\", \"position\"]\n",
    ")\n",
    "\n",
    "df2 = pd.DataFrame([\n",
    "        [\"hopkide01\", \"Dean Hopkins\"],\n",
    "        [\"mairad01\", \"Adam Mair\"],\n",
    "        [\"chaseke01\", \"Kelly Chase\"]\n",
    "    ],\n",
    "    columns=[\"playerID\", \"name\"]\n",
    ")    "
   ]
  },
  {
   "cell_type": "code",
   "execution_count": null,
   "metadata": {
    "slideshow": {
     "slide_type": "slide"
    }
   },
   "outputs": [],
   "source": [
    "pd.merge(df1, df2)"
   ]
  },
  {
   "cell_type": "code",
   "execution_count": null,
   "metadata": {
    "collapsed": true,
    "slideshow": {
     "slide_type": "slide"
    }
   },
   "outputs": [],
   "source": [
    "# This is to show join going bad\n",
    "\n",
    "df1 = pd.DataFrame([\n",
    "        [\"hopkide01\", 4, \"R\"],\n",
    "        [\"mairad01\", 1, \"C\"],\n",
    "        [\"chaseke01\", 5, \"R\"]\n",
    "    ],\n",
    "    columns=[\"playerID\", \"goals\", \"position\"]\n",
    ")\n",
    "\n",
    "df2 = pd.DataFrame([\n",
    "        [\"hopkide01\", \"Dean Hopkins\", \"Right Wing\"],\n",
    "        [\"mairad01\", \"Adam Mair\", \"Centre\"],\n",
    "        [\"chaseke01\", \"Kelly Chase\", \"Right Wing\"]\n",
    "    ],\n",
    "    columns=[\"playerID\", \"name\", \"position\"]\n",
    ")"
   ]
  },
  {
   "cell_type": "code",
   "execution_count": null,
   "metadata": {
    "slideshow": {
     "slide_type": "slide"
    }
   },
   "outputs": [],
   "source": [
    "pd.merge(df1, df2)"
   ]
  },
  {
   "cell_type": "code",
   "execution_count": null,
   "metadata": {
    "collapsed": true,
    "slideshow": {
     "slide_type": "slide"
    }
   },
   "outputs": [],
   "source": [
    "# df.join\n",
    "\n",
    "df1 = pd.DataFrame([\n",
    "        [\"hopkide01\", 4],\n",
    "        [\"mairad01\", 1],\n",
    "        [\"chaseke01\", 5]\n",
    "    ],\n",
    "    columns=[\"playerID\", \"goals\"]\n",
    ")\n",
    "\n",
    "\n",
    "df1 = df1.set_index(\"playerID\", drop=True)"
   ]
  },
  {
   "cell_type": "code",
   "execution_count": null,
   "metadata": {
    "collapsed": true,
    "slideshow": {
     "slide_type": "slide"
    }
   },
   "outputs": [],
   "source": [
    "df2 = pd.DataFrame([\n",
    "        [\"hopkide01\", \"R\"],\n",
    "        [\"mairad01\", \"C\"],\n",
    "        [\"chaseke01\", \"R\"]\n",
    "    ],\n",
    "    columns=[\"playerID\", \"position\"],\n",
    ")\n",
    "df2 = df2.set_index(\"playerID\", drop=True)"
   ]
  },
  {
   "cell_type": "code",
   "execution_count": null,
   "metadata": {
    "collapsed": true,
    "slideshow": {
     "slide_type": "slide"
    }
   },
   "outputs": [],
   "source": [
    "df3 = pd.DataFrame([\n",
    "        [\"hopkide01\", \"Dean Hopkins\"],\n",
    "        [\"mairad01\", \"Adam Mair\"],\n",
    "        [\"chaseke01\", \"Kelly Chase\"]\n",
    "    ],\n",
    "    columns=[\"playerID\", \"name\"]\n",
    ")\n",
    "df3 = df3.set_index(\"playerID\", drop=True)"
   ]
  },
  {
   "cell_type": "code",
   "execution_count": null,
   "metadata": {
    "slideshow": {
     "slide_type": "slide"
    }
   },
   "outputs": [],
   "source": [
    "df1.join([df2, df3])"
   ]
  }
 ],
 "metadata": {
  "anaconda-cloud": {},
  "kernelspec": {
   "display_name": "Python 3",
   "language": "python",
   "name": "python3"
  },
  "language_info": {
   "codemirror_mode": {
    "name": "ipython",
    "version": 3
   },
   "file_extension": ".py",
   "mimetype": "text/x-python",
   "name": "python",
   "nbconvert_exporter": "python",
   "pygments_lexer": "ipython3",
   "version": "3.7.3"
  }
 },
 "nbformat": 4,
 "nbformat_minor": 2
}
