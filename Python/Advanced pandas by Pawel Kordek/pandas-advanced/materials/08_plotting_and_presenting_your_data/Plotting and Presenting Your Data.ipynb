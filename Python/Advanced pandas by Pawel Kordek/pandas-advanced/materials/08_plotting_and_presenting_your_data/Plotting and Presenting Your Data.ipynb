{
 "cells": [
  {
   "cell_type": "code",
   "execution_count": null,
   "metadata": {
    "collapsed": true,
    "slideshow": {
     "slide_type": "slide"
    }
   },
   "outputs": [],
   "source": [
    "import pandas as pd\n",
    "import os"
   ]
  },
  {
   "cell_type": "code",
   "execution_count": null,
   "metadata": {
    "collapsed": true,
    "slideshow": {
     "slide_type": "fragment"
    }
   },
   "outputs": [],
   "source": [
    "team_splits = pd.read_pickle(os.path.join('..', 'team_splits_periods.pickle'))\n",
    "scoring = pd.read_pickle(os.path.join('..', 'scoring.pickle'))"
   ]
  },
  {
   "cell_type": "code",
   "execution_count": null,
   "metadata": {
    "collapsed": false,
    "slideshow": {
     "slide_type": "slide"
    }
   },
   "outputs": [],
   "source": [
    "ducks = team_splits.loc[team_splits[\"name\"] == \"Anaheim Ducks\", :]\n",
    "ducks = ducks.sort_index()\n",
    "ducks.head(10)"
   ]
  },
  {
   "cell_type": "code",
   "execution_count": null,
   "metadata": {
    "collapsed": false,
    "slideshow": {
     "slide_type": "slide"
    }
   },
   "outputs": [],
   "source": [
    "ducks.resample(\"A\").sum()"
   ]
  },
  {
   "cell_type": "code",
   "execution_count": null,
   "metadata": {
    "collapsed": false,
    "slideshow": {
     "slide_type": "slide"
    }
   },
   "outputs": [],
   "source": [
    "ducks.index = ducks.to_timestamp().index.map(\n",
    "    lambda x: \n",
    "    x + pd.DateOffset(years=1) if x.month < 5\n",
    "    else x\n",
    ")\n",
    "ducks = ducks.sort_index()\n",
    "ducks.head()"
   ]
  },
  {
   "cell_type": "code",
   "execution_count": null,
   "metadata": {
    "collapsed": false,
    "slideshow": {
     "slide_type": "slide"
    }
   },
   "outputs": [],
   "source": [
    "resampler = ducks.resample(\"A-JUN\")\n",
    "resampler"
   ]
  },
  {
   "cell_type": "code",
   "execution_count": null,
   "metadata": {
    "collapsed": false,
    "slideshow": {
     "slide_type": "fragment"
    }
   },
   "outputs": [],
   "source": [
    "resampler.sum()"
   ]
  },
  {
   "cell_type": "code",
   "execution_count": null,
   "metadata": {
    "collapsed": false,
    "slideshow": {
     "slide_type": "slide"
    }
   },
   "outputs": [],
   "source": [
    "# We can't to do this: resampler.expanding().sum()\n",
    "res = resampler.apply(\n",
    "        lambda x: x.reset_index()[[\"W\", \"L\"]]\n",
    "                   .expanding().sum()\n",
    ")\n",
    "res.head(8)"
   ]
  },
  {
   "cell_type": "code",
   "execution_count": null,
   "metadata": {
    "collapsed": false,
    "slideshow": {
     "slide_type": "slide"
    }
   },
   "outputs": [],
   "source": [
    "res.index = ducks.index\n",
    "res.head()"
   ]
  },
  {
   "cell_type": "code",
   "execution_count": null,
   "metadata": {
    "collapsed": false,
    "slideshow": {
     "slide_type": "slide"
    }
   },
   "outputs": [],
   "source": [
    "final = res.asfreq(pd.tseries.offsets.MonthBegin())\n",
    "final.head(10)"
   ]
  },
  {
   "cell_type": "code",
   "execution_count": null,
   "metadata": {
    "collapsed": false,
    "slideshow": {
     "slide_type": "slide"
    }
   },
   "outputs": [],
   "source": [
    "fdf = final.reset_index()\n",
    "fdf.head()"
   ]
  },
  {
   "cell_type": "code",
   "execution_count": null,
   "metadata": {
    "collapsed": false,
    "slideshow": {
     "slide_type": "slide"
    }
   },
   "outputs": [],
   "source": [
    "from bokeh.plotting import figure, output_notebook, show\n",
    "output_notebook()"
   ]
  },
  {
   "cell_type": "code",
   "execution_count": null,
   "metadata": {
    "collapsed": true,
    "slideshow": {
     "slide_type": "fragment"
    }
   },
   "outputs": [],
   "source": [
    "from bokeh.models.sources import ColumnDataSource as cds"
   ]
  },
  {
   "cell_type": "code",
   "execution_count": null,
   "metadata": {
    "collapsed": true,
    "slideshow": {
     "slide_type": "fragment"
    }
   },
   "outputs": [],
   "source": [
    "source = cds(fdf)\n",
    "p = figure(x_axis_type=\"datetime\", height=500, width=500)\n",
    "p.line(source=source, x='month', y=\"W\", color=\"green\")\n",
    "p.line(source=source, x='month', y=\"L\", color=\"red\");"
   ]
  },
  {
   "cell_type": "code",
   "execution_count": null,
   "metadata": {
    "collapsed": false,
    "slideshow": {
     "slide_type": "slide"
    }
   },
   "outputs": [],
   "source": [
    "show(p)"
   ]
  },
  {
   "cell_type": "code",
   "execution_count": null,
   "metadata": {
    "collapsed": true,
    "slideshow": {
     "slide_type": "slide"
    }
   },
   "outputs": [],
   "source": [
    "source = cds(fdf)\n",
    "p = figure(x_axis_type=\"datetime\", height=500, width=500)\n",
    "p.line(source=source, x='month', y=\"W\", color=\"green\", legend=\"Wins\")\n",
    "p.line(source=source, x='month', y=\"L\", color=\"red\", legend=\"Loses\")\n",
    "p.legend.click_policy=\"hide\";"
   ]
  },
  {
   "cell_type": "code",
   "execution_count": null,
   "metadata": {
    "collapsed": false,
    "slideshow": {
     "slide_type": "slide"
    }
   },
   "outputs": [],
   "source": [
    "show(p)"
   ]
  },
  {
   "cell_type": "code",
   "execution_count": null,
   "metadata": {
    "collapsed": true,
    "slideshow": {
     "slide_type": "slide"
    }
   },
   "outputs": [],
   "source": [
    "source = cds(fdf)\n",
    "p = figure(x_axis_type=\"datetime\", height=500, width=500)\n",
    "p.line(source=source, x='month', y=\"W\", color=\"green\", legend=\"Wins\")\n",
    "p.line(source=source, x='month', y=\"L\", color=\"red\", legend=\"Loses\")\n",
    "p.legend.click_policy=\"hide\"\n",
    "p.title.text = \"Anaheim Ducks Performance by Season\"\n",
    "p.title.text_font_size = \"25px\"\n",
    "p.title.align = \"center\";"
   ]
  },
  {
   "cell_type": "code",
   "execution_count": null,
   "metadata": {
    "collapsed": false,
    "slideshow": {
     "slide_type": "slide"
    }
   },
   "outputs": [],
   "source": [
    "show(p)"
   ]
  },
  {
   "cell_type": "code",
   "execution_count": null,
   "metadata": {
    "collapsed": false,
    "slideshow": {
     "slide_type": "slide"
    }
   },
   "outputs": [],
   "source": [
    "wayne = scoring.set_index(\"playerID\").loc['gretzwa01']\n",
    "wayne.head()"
   ]
  },
  {
   "cell_type": "code",
   "execution_count": null,
   "metadata": {
    "collapsed": false,
    "slideshow": {
     "slide_type": "slide"
    }
   },
   "outputs": [],
   "source": [
    "wayne = wayne[['year', 'tmID', 'GP', 'Pts']]\n",
    "wayne = wayne.assign(pts_per_game = lambda x: x['Pts'] / x['GP'])\n",
    "wayne.head()"
   ]
  },
  {
   "cell_type": "code",
   "execution_count": null,
   "metadata": {
    "collapsed": false,
    "slideshow": {
     "slide_type": "slide"
    }
   },
   "outputs": [],
   "source": [
    "wayne.tmID.head()"
   ]
  },
  {
   "cell_type": "code",
   "execution_count": null,
   "metadata": {
    "collapsed": false,
    "slideshow": {
     "slide_type": "slide"
    }
   },
   "outputs": [],
   "source": [
    "wayne.loc[:, \"tmID\"] = wayne.tmID.cat.remove_unused_categories()\n",
    "wayne.tmID.head()"
   ]
  },
  {
   "cell_type": "code",
   "execution_count": null,
   "metadata": {
    "collapsed": false,
    "slideshow": {
     "slide_type": "slide"
    }
   },
   "outputs": [],
   "source": [
    "wayne.loc[:, \"tmCode\"] = wayne[\"tmID\"].cat.codes\n",
    "wayne.sample(5)"
   ]
  },
  {
   "cell_type": "code",
   "execution_count": null,
   "metadata": {
    "collapsed": true,
    "slideshow": {
     "slide_type": "fragment"
    }
   },
   "outputs": [],
   "source": [
    "wayne.loc[:, \"year\"] = pd.to_datetime(wayne.year, format=\"%Y\")"
   ]
  },
  {
   "cell_type": "code",
   "execution_count": null,
   "metadata": {
    "collapsed": true,
    "slideshow": {
     "slide_type": "slide"
    }
   },
   "outputs": [],
   "source": [
    "gp_max = wayne.GP.max()\n",
    "gp_min = wayne.GP.min()\n",
    "pts_per_game_max = wayne.pts_per_game.max()\n",
    "pts_per_game_min = wayne.pts_per_game.min()"
   ]
  },
  {
   "cell_type": "code",
   "execution_count": null,
   "metadata": {
    "collapsed": false,
    "slideshow": {
     "slide_type": "fragment"
    }
   },
   "outputs": [],
   "source": [
    "wayne.loc[:, \"height\"] = wayne.GP / gp_max\n",
    "wayne.loc[:, \"bottom\"] = wayne.tmCode\n",
    "wayne.loc[:, \"top\"] = wayne.bottom + wayne.height\n",
    "wayne.head()"
   ]
  },
  {
   "cell_type": "code",
   "execution_count": null,
   "metadata": {
    "collapsed": true,
    "slideshow": {
     "slide_type": "slide"
    }
   },
   "outputs": [],
   "source": [
    "src = cds(wayne)\n",
    "p = figure(x_axis_type='datetime',\n",
    "           height=500, width=500,\n",
    "           y_range=list(wayne.tmID.cat.categories))\n",
    "p.vbar(bottom='bottom',\n",
    "       top='top', x='year',\n",
    "       width=1, source=src);"
   ]
  },
  {
   "cell_type": "code",
   "execution_count": null,
   "metadata": {
    "collapsed": false,
    "slideshow": {
     "slide_type": "slide"
    }
   },
   "outputs": [],
   "source": [
    "show(p)"
   ]
  },
  {
   "cell_type": "code",
   "execution_count": null,
   "metadata": {
    "collapsed": true,
    "slideshow": {
     "slide_type": "slide"
    }
   },
   "outputs": [],
   "source": [
    "p = figure(x_axis_type='datetime',\n",
    "           height=500, width=500,\n",
    "           y_range=list(wayne.tmID.cat.categories))\n",
    "p.vbar(bottom='bottom',\n",
    "       top='top', x='year',\n",
    "       width=1, source=src)\n",
    "p.xaxis.major_label_text_font_size = \"12pt\"\n",
    "p.yaxis.major_label_text_font_size = \"12pt\""
   ]
  },
  {
   "cell_type": "code",
   "execution_count": null,
   "metadata": {
    "collapsed": false,
    "slideshow": {
     "slide_type": "slide"
    }
   },
   "outputs": [],
   "source": [
    "show(p)"
   ]
  },
  {
   "cell_type": "code",
   "execution_count": null,
   "metadata": {
    "collapsed": false,
    "slideshow": {
     "slide_type": "slide"
    }
   },
   "outputs": [],
   "source": [
    "reordered = wayne.sort_values('year').tmID.unique()\n",
    "reordered"
   ]
  },
  {
   "cell_type": "code",
   "execution_count": null,
   "metadata": {
    "collapsed": true,
    "slideshow": {
     "slide_type": "fragment"
    }
   },
   "outputs": [],
   "source": [
    "wayne.loc[:, \"tmID\"] = wayne.tmID.cat.reorder_categories(reordered)\n",
    "wayne.loc[:, \"tmCode\"] = wayne[\"tmID\"].cat.codes\n",
    "wayne.loc[:, \"bottom\"] = wayne.tmCode\n",
    "wayne.loc[:, \"top\"] = wayne.bottom + wayne.height"
   ]
  },
  {
   "cell_type": "code",
   "execution_count": null,
   "metadata": {
    "collapsed": true,
    "slideshow": {
     "slide_type": "fragment"
    }
   },
   "outputs": [],
   "source": [
    "width = 320 * 24 * 60 * 60 * 1000"
   ]
  },
  {
   "cell_type": "code",
   "execution_count": null,
   "metadata": {
    "collapsed": true,
    "slideshow": {
     "slide_type": "slide"
    }
   },
   "outputs": [],
   "source": [
    "src = cds(wayne)\n",
    "p = figure(x_axis_type='datetime',\n",
    "           height=500, width=500,\n",
    "           y_range=list(wayne.tmID.cat.categories))\n",
    "p.vbar(bottom='bottom',\n",
    "       top='top', x='year',\n",
    "       width=width, source=src)\n",
    "p.xaxis.major_label_text_font_size = \"12pt\"\n",
    "p.yaxis.major_label_text_font_size = \"12pt\""
   ]
  },
  {
   "cell_type": "code",
   "execution_count": null,
   "metadata": {
    "collapsed": false,
    "slideshow": {
     "slide_type": "slide"
    }
   },
   "outputs": [],
   "source": [
    "show(p)"
   ]
  },
  {
   "cell_type": "code",
   "execution_count": null,
   "metadata": {
    "collapsed": true,
    "slideshow": {
     "slide_type": "slide"
    }
   },
   "outputs": [],
   "source": [
    "wayne.loc[:, \"bottom\"] = wayne.tmCode - (wayne.height / 2.0 ) + 0.5\n",
    "wayne.loc[:, \"top\"] = wayne.bottom + wayne.height"
   ]
  },
  {
   "cell_type": "code",
   "execution_count": null,
   "metadata": {
    "collapsed": true,
    "slideshow": {
     "slide_type": "slide"
    }
   },
   "outputs": [],
   "source": [
    "src = cds(wayne)\n",
    "p = figure(x_axis_type='datetime',\n",
    "           height=500, width=500,\n",
    "           y_range=list(wayne.tmID.cat.categories))\n",
    "p.vbar(bottom='bottom',\n",
    "       top='top', x='year',\n",
    "       width=width, source=src)\n",
    "p.xaxis.major_label_text_font_size = \"12pt\"\n",
    "p.yaxis.major_label_text_font_size = \"12pt\""
   ]
  },
  {
   "cell_type": "code",
   "execution_count": null,
   "metadata": {
    "collapsed": false,
    "slideshow": {
     "slide_type": "slide"
    }
   },
   "outputs": [],
   "source": [
    "show(p)"
   ]
  },
  {
   "cell_type": "code",
   "execution_count": null,
   "metadata": {
    "collapsed": true,
    "slideshow": {
     "slide_type": "slide"
    }
   },
   "outputs": [],
   "source": [
    "wayne.loc[:, \"height\"] = wayne.GP / gp_max * 0.8\n",
    "wayne.loc[:, \"bottom\"] = wayne.tmCode - (wayne.height / 2.0 ) + 0.5\n",
    "wayne.loc[:, \"top\"] = wayne.bottom + wayne.height"
   ]
  },
  {
   "cell_type": "code",
   "execution_count": null,
   "metadata": {
    "collapsed": true,
    "slideshow": {
     "slide_type": "slide"
    }
   },
   "outputs": [],
   "source": [
    "src = cds(wayne)\n",
    "p = figure(x_axis_type='datetime',\n",
    "           height=500, width=500,\n",
    "           y_range=list(wayne.tmID.cat.categories))\n",
    "p.vbar(bottom='bottom',\n",
    "       top='top', x='year',\n",
    "       width=width, source=src)\n",
    "p.xaxis.major_label_text_font_size = \"12pt\"\n",
    "p.yaxis.major_label_text_font_size = \"12pt\""
   ]
  },
  {
   "cell_type": "code",
   "execution_count": null,
   "metadata": {
    "collapsed": false,
    "slideshow": {
     "slide_type": "slide"
    }
   },
   "outputs": [],
   "source": [
    "show(p)"
   ]
  },
  {
   "cell_type": "code",
   "execution_count": null,
   "metadata": {
    "collapsed": true,
    "slideshow": {
     "slide_type": "slide"
    }
   },
   "outputs": [],
   "source": [
    "from bokeh.models import LinearColorMapper\n",
    "color_mapper = LinearColorMapper(\n",
    "    palette=\"Plasma256\", \n",
    "    low=pts_per_game_min, \n",
    "    high=pts_per_game_max)"
   ]
  },
  {
   "cell_type": "code",
   "execution_count": null,
   "metadata": {
    "collapsed": true,
    "slideshow": {
     "slide_type": "slide"
    }
   },
   "outputs": [],
   "source": [
    "src = cds(wayne)\n",
    "p = figure(x_axis_type='datetime', \n",
    "           height=500, width=500,\n",
    "           y_range=list(wayne.tmID.cat.categories))\n",
    "p.vbar(bottom='bottom', top='top',\n",
    "       x='year', width=width,\n",
    "       color={'field': 'pts_per_game', 'transform': color_mapper},\n",
    "       source=src);"
   ]
  },
  {
   "cell_type": "code",
   "execution_count": null,
   "metadata": {
    "collapsed": false,
    "slideshow": {
     "slide_type": "slide"
    }
   },
   "outputs": [],
   "source": [
    "show(p)"
   ]
  },
  {
   "cell_type": "code",
   "execution_count": null,
   "metadata": {
    "collapsed": true,
    "slideshow": {
     "slide_type": "slide"
    }
   },
   "outputs": [],
   "source": [
    "from bokeh.models import ColorBar\n",
    "src = cds(wayne)\n",
    "p = figure(x_axis_type='datetime', \n",
    "           width=500,\n",
    "           height=500, \n",
    "           y_range=list(wayne.tmID.cat.categories)\n",
    ")\n",
    "p.vbar(bottom='bottom', top='top', x='year', width=width,\n",
    "       color={'field': 'pts_per_game', 'transform': color_mapper}, source=src)\n",
    "color_bar = ColorBar(color_mapper=color_mapper,\n",
    "                     label_standoff=8, border_line_color=None, \n",
    "                     location=(0,0)\n",
    ")\n",
    "\n",
    "p.add_layout(color_bar, 'right');"
   ]
  },
  {
   "cell_type": "code",
   "execution_count": null,
   "metadata": {
    "collapsed": false,
    "slideshow": {
     "slide_type": "slide"
    }
   },
   "outputs": [],
   "source": [
    "show(p)"
   ]
  },
  {
   "cell_type": "code",
   "execution_count": null,
   "metadata": {
    "collapsed": true,
    "slideshow": {
     "slide_type": "slide"
    }
   },
   "outputs": [],
   "source": [
    "from bokeh.models.tools import HoverTool\n",
    "hover = HoverTool(\n",
    "    tooltips=[\n",
    "        (\"Points per game\", \"@pts_per_game\"),\n",
    "        (\"Games played\", \"@GP\")\n",
    "    ]\n",
    ")"
   ]
  },
  {
   "cell_type": "code",
   "execution_count": null,
   "metadata": {
    "collapsed": true,
    "slideshow": {
     "slide_type": "slide"
    }
   },
   "outputs": [],
   "source": [
    "src = cds(wayne)\n",
    "p = figure(x_axis_type='datetime', \n",
    "           width=500,\n",
    "           height=500, \n",
    "           y_range=list(wayne.tmID.cat.categories)\n",
    ")\n",
    "p.vbar(bottom='bottom', top='top', x='year', width=width,\n",
    "       color={'field': 'pts_per_game', 'transform': color_mapper}, source=src)\n",
    "color_bar = ColorBar(color_mapper=color_mapper,\n",
    "                     label_standoff=8, border_line_color=None, \n",
    "                     location=(0,0)\n",
    ")\n",
    "\n",
    "p.add_layout(color_bar, 'right')\n",
    "p.add_tools(hover);"
   ]
  },
  {
   "cell_type": "code",
   "execution_count": null,
   "metadata": {
    "collapsed": false,
    "slideshow": {
     "slide_type": "slide"
    }
   },
   "outputs": [],
   "source": [
    "show(p)"
   ]
  }
 ],
 "metadata": {
  "kernelspec": {
   "display_name": "Python [Root]",
   "language": "python",
   "name": "Python [Root]"
  },
  "language_info": {
   "codemirror_mode": {
    "name": "ipython",
    "version": 3
   },
   "file_extension": ".py",
   "mimetype": "text/x-python",
   "name": "python",
   "nbconvert_exporter": "python",
   "pygments_lexer": "ipython3",
   "version": "3.5.2"
  }
 },
 "nbformat": 4,
 "nbformat_minor": 2
}
